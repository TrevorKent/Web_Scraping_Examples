{
 "cells": [
  {
   "cell_type": "code",
   "execution_count": 74,
   "metadata": {},
   "outputs": [],
   "source": [
    "from bs4 import BeautifulSoup\n",
    "import requests"
   ]
  },
  {
   "cell_type": "code",
   "execution_count": 75,
   "metadata": {},
   "outputs": [
    {
     "name": "stdout",
     "output_type": "stream",
     "text": [
      "<!DOCTYPE html>\n",
      "<html lang=\"en-us\">\n",
      " <head>\n",
      "  <!--Characterset & Title-->\n",
      "  <meta charset=\"utf-8\"/>\n",
      "  <title>\n",
      "   Rush Top 10 List\n",
      "  </title>\n",
      "  <!--Reset stylesheet-->\n",
      "  <link href=\"reset.css\" rel=\"stylesheet\"/>\n",
      "  <!--Link to Bootstrap stylesheet-->\n",
      "  <link href=\"#\" rel=\"stylesheet\"/>\n",
      "  <!--Link to CSS stylesheet-->\n",
      "  <link href=\"styles.css\" rel=\"stylesheet\" type=\"text/css\"/>\n",
      " </head>\n",
      " <body>\n",
      "  <div>\n",
      "   <h1>\n",
      "    <strong>\n",
      "     My Rush Top Ten List\n",
      "    </strong>\n",
      "   </h1>\n",
      "  </div>\n",
      "  <div class=\"content\">\n",
      "   <img alt=\"Moving Pictures\" src=\"Rush-MovingPictures.jpg\"/>\n",
      "   <h4>\n",
      "    Top 10 Albums...\n",
      "   </h4>\n",
      "   <div class=\"list-albums\">\n",
      "    <ol>\n",
      "     <li>\n",
      "      Moving Pictures (1981)\n",
      "     </li>\n",
      "     <li>\n",
      "      Signals (1982)\n",
      "     </li>\n",
      "     <li>\n",
      "      2112 (1978)\n",
      "     </li>\n",
      "     <li>\n",
      "      Snakes &amp; Arrows (2008)\n",
      "     </li>\n",
      "     <li>\n",
      "      Grace Under Pressure (1984)\n",
      "     </li>\n",
      "     <li>\n",
      "      Counterparts(1993)\n",
      "     </li>\n",
      "     <li>\n",
      "      Power Windows (1985)\n",
      "     </li>\n",
      "     <li>\n",
      "      Roll the Bones (1991)\n",
      "     </li>\n",
      "     <li>\n",
      "      Permanent Waves (1980)\n",
      "     </li>\n",
      "     <li>\n",
      "      Clockwork Angels (2012)\n",
      "     </li>\n",
      "    </ol>\n",
      "   </div>\n",
      "   <h4>\n",
      "    Top 10 Songs...\n",
      "   </h4>\n",
      "   <div class=\"list-songs\">\n",
      "    <ol>\n",
      "     <li>\n",
      "      Tom Sawyer (Moving Pictures)\n",
      "     </li>\n",
      "     <li>\n",
      "      Subdivisions (Signals)\n",
      "     </li>\n",
      "     <li>\n",
      "      2112 (2112)\n",
      "     </li>\n",
      "     <li>\n",
      "      Spirit of the Radio (Permanent Waves)\n",
      "     </li>\n",
      "     <li>\n",
      "      YYZ (Moving Pictures)\n",
      "     </li>\n",
      "     <li>\n",
      "      Far Cry (Snakes &amp; Arrows)\n",
      "     </li>\n",
      "     <li>\n",
      "      Distant Early Warning (Grace Under Pressure)\n",
      "     </li>\n",
      "     <li>\n",
      "      Big Money (Power Windows)\n",
      "     </li>\n",
      "     <li>\n",
      "      Red Barchetta (Moving Pictures)\n",
      "     </li>\n",
      "     <li>\n",
      "      Working Man (Rush)\n",
      "     </li>\n",
      "    </ol>\n",
      "   </div>\n",
      "  </div>\n",
      " </body>\n",
      "</html>\n"
     ]
    }
   ],
   "source": [
    "with open(\"rush.html\") as html_file:\n",
    "    soup = BeautifulSoup(html_file, 'lxml')\n",
    "\n",
    "print(soup.prettify())"
   ]
  },
  {
   "cell_type": "code",
   "execution_count": 76,
   "metadata": {},
   "outputs": [
    {
     "name": "stdout",
     "output_type": "stream",
     "text": [
      "<title>\n",
      " Rush Top 10 List\n",
      "</title>\n",
      "\n"
     ]
    }
   ],
   "source": [
    "match = soup.title\n",
    "print(match.prettify())"
   ]
  },
  {
   "cell_type": "code",
   "execution_count": 77,
   "metadata": {},
   "outputs": [
    {
     "name": "stdout",
     "output_type": "stream",
     "text": [
      "Rush Top 10 List\n"
     ]
    }
   ],
   "source": [
    "match = soup.title.text\n",
    "print(match)"
   ]
  },
  {
   "cell_type": "code",
   "execution_count": 78,
   "metadata": {},
   "outputs": [
    {
     "name": "stdout",
     "output_type": "stream",
     "text": [
      "<div>\n",
      "<h1><strong>My Rush Top Ten List</strong></h1>\n",
      "</div>\n"
     ]
    }
   ],
   "source": [
    "match = soup.div\n",
    "print(match)"
   ]
  },
  {
   "cell_type": "code",
   "execution_count": 79,
   "metadata": {},
   "outputs": [
    {
     "name": "stdout",
     "output_type": "stream",
     "text": [
      "<div class=\"content\">\n",
      " <img alt=\"Moving Pictures\" src=\"Rush-MovingPictures.jpg\"/>\n",
      " <h4>\n",
      "  Top 10 Albums...\n",
      " </h4>\n",
      " <div class=\"list-albums\">\n",
      "  <ol>\n",
      "   <li>\n",
      "    Moving Pictures (1981)\n",
      "   </li>\n",
      "   <li>\n",
      "    Signals (1982)\n",
      "   </li>\n",
      "   <li>\n",
      "    2112 (1978)\n",
      "   </li>\n",
      "   <li>\n",
      "    Snakes &amp; Arrows (2008)\n",
      "   </li>\n",
      "   <li>\n",
      "    Grace Under Pressure (1984)\n",
      "   </li>\n",
      "   <li>\n",
      "    Counterparts(1993)\n",
      "   </li>\n",
      "   <li>\n",
      "    Power Windows (1985)\n",
      "   </li>\n",
      "   <li>\n",
      "    Roll the Bones (1991)\n",
      "   </li>\n",
      "   <li>\n",
      "    Permanent Waves (1980)\n",
      "   </li>\n",
      "   <li>\n",
      "    Clockwork Angels (2012)\n",
      "   </li>\n",
      "  </ol>\n",
      " </div>\n",
      " <h4>\n",
      "  Top 10 Songs...\n",
      " </h4>\n",
      " <div class=\"list-songs\">\n",
      "  <ol>\n",
      "   <li>\n",
      "    Tom Sawyer (Moving Pictures)\n",
      "   </li>\n",
      "   <li>\n",
      "    Subdivisions (Signals)\n",
      "   </li>\n",
      "   <li>\n",
      "    2112 (2112)\n",
      "   </li>\n",
      "   <li>\n",
      "    Spirit of the Radio (Permanent Waves)\n",
      "   </li>\n",
      "   <li>\n",
      "    YYZ (Moving Pictures)\n",
      "   </li>\n",
      "   <li>\n",
      "    Far Cry (Snakes &amp; Arrows)\n",
      "   </li>\n",
      "   <li>\n",
      "    Distant Early Warning (Grace Under Pressure)\n",
      "   </li>\n",
      "   <li>\n",
      "    Big Money (Power Windows)\n",
      "   </li>\n",
      "   <li>\n",
      "    Red Barchetta (Moving Pictures)\n",
      "   </li>\n",
      "   <li>\n",
      "    Working Man (Rush)\n",
      "   </li>\n",
      "  </ol>\n",
      " </div>\n",
      "</div>\n",
      "\n"
     ]
    }
   ],
   "source": [
    "match = soup.find('div', class_=\"content\")\n",
    "print(match.prettify())\n"
   ]
  },
  {
   "cell_type": "code",
   "execution_count": 86,
   "metadata": {},
   "outputs": [
    {
     "name": "stdout",
     "output_type": "stream",
     "text": [
      "\n",
      "Moving Pictures (1981)\n",
      "Signals (1982)\n",
      "2112 (1978)\n",
      "Snakes & Arrows (2008)\n",
      "Grace Under Pressure (1984)\n",
      "Counterparts(1993)\n",
      "Power Windows (1985)\n",
      "Roll the Bones (1991)\n",
      "Permanent Waves (1980)\n",
      "Clockwork Angels (2012)\n",
      "\n"
     ]
    }
   ],
   "source": [
    "match = soup.find('div', class_=\"list-albums\")\n",
    "album_list = match.ol.text\n",
    "\n",
    "print(album_list)"
   ]
  },
  {
   "cell_type": "code",
   "execution_count": 87,
   "metadata": {},
   "outputs": [
    {
     "name": "stdout",
     "output_type": "stream",
     "text": [
      "\n",
      "Tom Sawyer (Moving Pictures)\n",
      "Subdivisions (Signals)\n",
      "2112 (2112)\n",
      "Spirit of the Radio (Permanent Waves)\n",
      "YYZ (Moving Pictures)\n",
      "Far Cry (Snakes & Arrows)\n",
      "Distant Early Warning (Grace Under Pressure)\n",
      "Big Money (Power Windows)\n",
      "Red Barchetta (Moving Pictures)\n",
      "Working Man (Rush)\n",
      "\n"
     ]
    }
   ],
   "source": [
    "match = soup.find('div', class_=\"list-songs\")\n",
    "song_list = match.ol.text\n",
    "print(song_list)"
   ]
  },
  {
   "cell_type": "code",
   "execution_count": 103,
   "metadata": {},
   "outputs": [
    {
     "name": "stdout",
     "output_type": "stream",
     "text": [
      "\n",
      "Moving Pictures (1981)\n",
      "Signals (1982)\n",
      "2112 (1978)\n",
      "Snakes & Arrows (2008)\n",
      "Grace Under Pressure (1984)\n",
      "Counterparts(1993)\n",
      "Power Windows (1985)\n",
      "Roll the Bones (1991)\n",
      "Permanent Waves (1980)\n",
      "Clockwork Angels (2012)\n",
      "\n",
      "['\\nMoving Pictures (1981)\\nSignals (1982)\\n2112 (1978)\\nSnakes & Arrows (2008)\\nGrace Under Pressure (1984)\\nCounterparts(1993)\\nPower Windows (1985)\\nRoll the Bones (1991)\\nPermanent Waves (1980)\\nClockwork Angels (2012)\\n']\n"
     ]
    }
   ],
   "source": [
    "List =[]\n",
    "\n",
    "for item in soup.find_all('div', class_=\"list-albums\"):\n",
    "    list = item.ol.text\n",
    "    print(list)\n",
    "    List.append(list)\n",
    "    \n",
    "print(List)"
   ]
  }
 ],
 "metadata": {
  "kernelspec": {
   "display_name": "Python 3",
   "language": "python",
   "name": "python3"
  },
  "language_info": {
   "codemirror_mode": {
    "name": "ipython",
    "version": 3
   },
   "file_extension": ".py",
   "mimetype": "text/x-python",
   "name": "python",
   "nbconvert_exporter": "python",
   "pygments_lexer": "ipython3",
   "version": "3.6.7"
  }
 },
 "nbformat": 4,
 "nbformat_minor": 2
}
